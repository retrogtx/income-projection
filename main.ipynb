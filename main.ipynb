{
 "cells": [
  {
   "cell_type": "code",
   "execution_count": 20,
   "metadata": {},
   "outputs": [],
   "source": [
    "import pandas as pd"
   ]
  },
  {
   "cell_type": "code",
   "execution_count": 21,
   "metadata": {},
   "outputs": [],
   "source": [
    "df = pd.read_csv('income.csv')"
   ]
  },
  {
   "cell_type": "code",
   "execution_count": 22,
   "metadata": {},
   "outputs": [],
   "source": [
    "df = pd.concat([df.drop(\"occupation\", axis=1), pd.get_dummies(df.occupation).add_prefix('occupation_')], axis=1)\n",
    "df = pd.concat([df.drop(\"workclass\", axis=1), pd.get_dummies(df.workclass).add_prefix('workclass_')], axis=1)\n",
    "df = df.drop(\"education\", axis=1)\n",
    "df = pd.concat([df.drop(\"marital-status\", axis=1), pd.get_dummies(df[\"marital-status\"]).add_prefix('marital-status_')], axis=1)\n",
    "df = pd.concat([df.drop(\"relationship\", axis=1), pd.get_dummies(df.relationship).add_prefix('relationship_')], axis=1)\n",
    "df = pd.concat([df.drop(\"race\", axis=1), pd.get_dummies(df.race).add_prefix('race_')], axis=1)\n",
    "df = pd.concat([df.drop(\"native-country\", axis=1), pd.get_dummies(df[\"native-country\"]).add_prefix('native-country_')], axis=1)"
   ]
  },
  {
   "cell_type": "code",
   "execution_count": null,
   "metadata": {},
   "outputs": [],
   "source": []
  },
  {
   "cell_type": "code",
   "execution_count": null,
   "metadata": {},
   "outputs": [],
   "source": []
  }
 ],
 "metadata": {
  "kernelspec": {
   "display_name": "Python 3",
   "language": "python",
   "name": "python3"
  },
  "language_info": {
   "codemirror_mode": {
    "name": "ipython",
    "version": 3
   },
   "file_extension": ".py",
   "mimetype": "text/x-python",
   "name": "python",
   "nbconvert_exporter": "python",
   "pygments_lexer": "ipython3",
   "version": "3.10.0"
  }
 },
 "nbformat": 4,
 "nbformat_minor": 2
}
